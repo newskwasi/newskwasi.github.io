{
  "nbformat": 4,
  "nbformat_minor": 0,
  "metadata": {
    "colab": {
      "name": "Asiedu_WaPo.ipynb",
      "provenance": []
    },
    "kernelspec": {
      "name": "python3",
      "display_name": "Python 3"
    }
  },
  "cells": [
    {
      "cell_type": "code",
      "metadata": {
        "id": "m0J6DcTWpcCy"
      },
      "source": [
        "import pandas as pd"
      ],
      "execution_count": 1,
      "outputs": []
    },
    {
      "cell_type": "code",
      "metadata": {
        "id": "bDQjBofNpfYv"
      },
      "source": [
        "pd.set_option(\"display.max_columns\", 100)\n",
        "pd.set_option(\"display.max_colwidth\", 100)"
      ],
      "execution_count": 2,
      "outputs": []
    },
    {
      "cell_type": "code",
      "metadata": {
        "colab": {
          "resources": {
            "http://localhost:8080/nbextensions/google.colab/files.js": {
              "data": "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",
              "ok": true,
              "headers": [
                [
                  "content-type",
                  "application/javascript"
                ]
              ],
              "status": 200,
              "status_text": ""
            }
          },
          "base_uri": "https://localhost:8080/",
          "height": 72
        },
        "id": "loTghJCrpl-k",
        "outputId": "f6b6b89b-2e8e-4bc3-efb9-aa34273b4ff3"
      },
      "source": [
        "from google.colab import files\n",
        "uploaded = files.upload()"
      ],
      "execution_count": 5,
      "outputs": [
        {
          "output_type": "display_data",
          "data": {
            "text/html": [
              "\n",
              "     <input type=\"file\" id=\"files-324ca818-3351-4650-b6bf-963aa5f32bbb\" name=\"files[]\" multiple disabled\n",
              "        style=\"border:none\" />\n",
              "     <output id=\"result-324ca818-3351-4650-b6bf-963aa5f32bbb\">\n",
              "      Upload widget is only available when the cell has been executed in the\n",
              "      current browser session. Please rerun this cell to enable.\n",
              "      </output>\n",
              "      <script src=\"/nbextensions/google.colab/files.js\"></script> "
            ],
            "text/plain": [
              "<IPython.core.display.HTML object>"
            ]
          },
          "metadata": {
            "tags": []
          }
        },
        {
          "output_type": "stream",
          "text": [
            "Saving reviews-marked.csv to reviews-marked.csv\n"
          ],
          "name": "stdout"
        }
      ]
    },
    {
      "cell_type": "code",
      "metadata": {
        "id": "sL0X7dKmpotC"
      },
      "source": [
        "df = pd.read_csv(\"reviews-marked.csv\")"
      ],
      "execution_count": 6,
      "outputs": []
    },
    {
      "cell_type": "code",
      "metadata": {
        "colab": {
          "base_uri": "https://localhost:8080/",
          "height": 555
        },
        "id": "iJTjTHWHtcqO",
        "outputId": "bab1486f-6845-4a45-bbcd-a96dddc24312"
      },
      "source": [
        "df"
      ],
      "execution_count": 7,
      "outputs": [
        {
          "output_type": "execute_result",
          "data": {
            "text/html": [
              "<div>\n",
              "<style scoped>\n",
              "    .dataframe tbody tr th:only-of-type {\n",
              "        vertical-align: middle;\n",
              "    }\n",
              "\n",
              "    .dataframe tbody tr th {\n",
              "        vertical-align: top;\n",
              "    }\n",
              "\n",
              "    .dataframe thead th {\n",
              "        text-align: right;\n",
              "    }\n",
              "</style>\n",
              "<table border=\"1\" class=\"dataframe\">\n",
              "  <thead>\n",
              "    <tr style=\"text-align: right;\">\n",
              "      <th></th>\n",
              "      <th>Country</th>\n",
              "      <th>Date</th>\n",
              "      <th>Rating</th>\n",
              "      <th>Review</th>\n",
              "      <th>Version</th>\n",
              "      <th>source</th>\n",
              "      <th>racism</th>\n",
              "      <th>bullying</th>\n",
              "      <th>sexual</th>\n",
              "    </tr>\n",
              "  </thead>\n",
              "  <tbody>\n",
              "    <tr>\n",
              "      <th>0</th>\n",
              "      <td>US</td>\n",
              "      <td>11/22/2019</td>\n",
              "      <td>5</td>\n",
              "      <td>It’s a great app to meet new people and chat in very satisfied with downloading this app i recom...</td>\n",
              "      <td>4.4.5</td>\n",
              "      <td>holla</td>\n",
              "      <td>NaN</td>\n",
              "      <td>NaN</td>\n",
              "      <td>NaN</td>\n",
              "    </tr>\n",
              "    <tr>\n",
              "      <th>1</th>\n",
              "      <td>US</td>\n",
              "      <td>11/22/2019</td>\n",
              "      <td>5</td>\n",
              "      <td>Holla is an excellent app, where I get to know new people every time and even get to make new fr...</td>\n",
              "      <td>4.4.5</td>\n",
              "      <td>holla</td>\n",
              "      <td>NaN</td>\n",
              "      <td>NaN</td>\n",
              "      <td>NaN</td>\n",
              "    </tr>\n",
              "    <tr>\n",
              "      <th>2</th>\n",
              "      <td>US</td>\n",
              "      <td>11/22/2019</td>\n",
              "      <td>1</td>\n",
              "      <td>Get rid of micro transactions or i will find a new app to use. Why should i have to pay for that...</td>\n",
              "      <td>3.8</td>\n",
              "      <td>holla</td>\n",
              "      <td>0.0</td>\n",
              "      <td>0.0</td>\n",
              "      <td>0.0</td>\n",
              "    </tr>\n",
              "    <tr>\n",
              "      <th>3</th>\n",
              "      <td>US</td>\n",
              "      <td>11/22/2019</td>\n",
              "      <td>5</td>\n",
              "      <td>Free to use app, meet people around the world.</td>\n",
              "      <td>-</td>\n",
              "      <td>holla</td>\n",
              "      <td>NaN</td>\n",
              "      <td>NaN</td>\n",
              "      <td>NaN</td>\n",
              "    </tr>\n",
              "    <tr>\n",
              "      <th>4</th>\n",
              "      <td>US</td>\n",
              "      <td>11/21/2019</td>\n",
              "      <td>5</td>\n",
              "      <td>I got this app and everything has been different. I’ve met so many interesting people. From arou...</td>\n",
              "      <td>4.4.5</td>\n",
              "      <td>holla</td>\n",
              "      <td>NaN</td>\n",
              "      <td>NaN</td>\n",
              "      <td>NaN</td>\n",
              "    </tr>\n",
              "    <tr>\n",
              "      <th>...</th>\n",
              "      <td>...</td>\n",
              "      <td>...</td>\n",
              "      <td>...</td>\n",
              "      <td>...</td>\n",
              "      <td>...</td>\n",
              "      <td>...</td>\n",
              "      <td>...</td>\n",
              "      <td>...</td>\n",
              "      <td>...</td>\n",
              "    </tr>\n",
              "    <tr>\n",
              "      <th>56051</th>\n",
              "      <td>US</td>\n",
              "      <td>07/19/2011</td>\n",
              "      <td>5</td>\n",
              "      <td>Fun app glad I got it for free, would be awesome if you could save logs either via picture or te...</td>\n",
              "      <td>1</td>\n",
              "      <td>chat-for-strangers</td>\n",
              "      <td>NaN</td>\n",
              "      <td>NaN</td>\n",
              "      <td>NaN</td>\n",
              "    </tr>\n",
              "    <tr>\n",
              "      <th>56052</th>\n",
              "      <td>US</td>\n",
              "      <td>07/19/2011</td>\n",
              "      <td>1</td>\n",
              "      <td>Can't even open the app. Fix it</td>\n",
              "      <td>3.4.1</td>\n",
              "      <td>skout</td>\n",
              "      <td>NaN</td>\n",
              "      <td>NaN</td>\n",
              "      <td>NaN</td>\n",
              "    </tr>\n",
              "    <tr>\n",
              "      <th>56053</th>\n",
              "      <td>US</td>\n",
              "      <td>07/18/2011</td>\n",
              "      <td>3</td>\n",
              "      <td>Great but drops convo all tge time :(</td>\n",
              "      <td>-</td>\n",
              "      <td>chat-for-strangers</td>\n",
              "      <td>NaN</td>\n",
              "      <td>NaN</td>\n",
              "      <td>NaN</td>\n",
              "    </tr>\n",
              "    <tr>\n",
              "      <th>56054</th>\n",
              "      <td>US</td>\n",
              "      <td>07/18/2011</td>\n",
              "      <td>5</td>\n",
              "      <td>Works just like the service it connects to.</td>\n",
              "      <td>-</td>\n",
              "      <td>chat-for-strangers</td>\n",
              "      <td>NaN</td>\n",
              "      <td>NaN</td>\n",
              "      <td>NaN</td>\n",
              "    </tr>\n",
              "    <tr>\n",
              "      <th>56055</th>\n",
              "      <td>US</td>\n",
              "      <td>07/16/2011</td>\n",
              "      <td>2</td>\n",
              "      <td>Hate to rate it low, because the app is pretty good. Besides a bombardment of ads it does its jo...</td>\n",
              "      <td>4.2</td>\n",
              "      <td>skout</td>\n",
              "      <td>NaN</td>\n",
              "      <td>NaN</td>\n",
              "      <td>NaN</td>\n",
              "    </tr>\n",
              "  </tbody>\n",
              "</table>\n",
              "<p>56056 rows × 9 columns</p>\n",
              "</div>"
            ],
            "text/plain": [
              "      Country        Date  Rating  \\\n",
              "0          US  11/22/2019       5   \n",
              "1          US  11/22/2019       5   \n",
              "2          US  11/22/2019       1   \n",
              "3          US  11/22/2019       5   \n",
              "4          US  11/21/2019       5   \n",
              "...       ...         ...     ...   \n",
              "56051      US  07/19/2011       5   \n",
              "56052      US  07/19/2011       1   \n",
              "56053      US  07/18/2011       3   \n",
              "56054      US  07/18/2011       5   \n",
              "56055      US  07/16/2011       2   \n",
              "\n",
              "                                                                                                    Review  \\\n",
              "0      It’s a great app to meet new people and chat in very satisfied with downloading this app i recom...   \n",
              "1      Holla is an excellent app, where I get to know new people every time and even get to make new fr...   \n",
              "2      Get rid of micro transactions or i will find a new app to use. Why should i have to pay for that...   \n",
              "3                                                           Free to use app, meet people around the world.   \n",
              "4      I got this app and everything has been different. I’ve met so many interesting people. From arou...   \n",
              "...                                                                                                    ...   \n",
              "56051  Fun app glad I got it for free, would be awesome if you could save logs either via picture or te...   \n",
              "56052                                                                      Can't even open the app. Fix it   \n",
              "56053                                                                Great but drops convo all tge time :(   \n",
              "56054                                                          Works just like the service it connects to.   \n",
              "56055  Hate to rate it low, because the app is pretty good. Besides a bombardment of ads it does its jo...   \n",
              "\n",
              "      Version              source  racism  bullying  sexual  \n",
              "0       4.4.5               holla     NaN       NaN     NaN  \n",
              "1       4.4.5               holla     NaN       NaN     NaN  \n",
              "2         3.8               holla     0.0       0.0     0.0  \n",
              "3           -               holla     NaN       NaN     NaN  \n",
              "4       4.4.5               holla     NaN       NaN     NaN  \n",
              "...       ...                 ...     ...       ...     ...  \n",
              "56051       1  chat-for-strangers     NaN       NaN     NaN  \n",
              "56052   3.4.1               skout     NaN       NaN     NaN  \n",
              "56053       -  chat-for-strangers     NaN       NaN     NaN  \n",
              "56054       -  chat-for-strangers     NaN       NaN     NaN  \n",
              "56055     4.2               skout     NaN       NaN     NaN  \n",
              "\n",
              "[56056 rows x 9 columns]"
            ]
          },
          "metadata": {
            "tags": []
          },
          "execution_count": 7
        }
      ]
    },
    {
      "cell_type": "code",
      "metadata": {
        "colab": {
          "base_uri": "https://localhost:8080/"
        },
        "id": "W6deDS8ctd2f",
        "outputId": "0f1638a9-0b2a-4868-ab8a-04c40c21b9d2"
      },
      "source": [
        "df.shape"
      ],
      "execution_count": 8,
      "outputs": [
        {
          "output_type": "execute_result",
          "data": {
            "text/plain": [
              "(56056, 9)"
            ]
          },
          "metadata": {
            "tags": []
          },
          "execution_count": 8
        }
      ]
    },
    {
      "cell_type": "code",
      "metadata": {
        "colab": {
          "base_uri": "https://localhost:8080/",
          "height": 289
        },
        "id": "Ooz9ynqvumYX",
        "outputId": "1384e69e-a07e-45f2-fe42-053ae9c48f67"
      },
      "source": [
        "sexual_df = df[df.Review.str.contains(\"sexual\", na=False) | df.Review.str.contains(\"sex\", na=False)]\n",
        "sexual_df.head()"
      ],
      "execution_count": 9,
      "outputs": [
        {
          "output_type": "execute_result",
          "data": {
            "text/html": [
              "<div>\n",
              "<style scoped>\n",
              "    .dataframe tbody tr th:only-of-type {\n",
              "        vertical-align: middle;\n",
              "    }\n",
              "\n",
              "    .dataframe tbody tr th {\n",
              "        vertical-align: top;\n",
              "    }\n",
              "\n",
              "    .dataframe thead th {\n",
              "        text-align: right;\n",
              "    }\n",
              "</style>\n",
              "<table border=\"1\" class=\"dataframe\">\n",
              "  <thead>\n",
              "    <tr style=\"text-align: right;\">\n",
              "      <th></th>\n",
              "      <th>Country</th>\n",
              "      <th>Date</th>\n",
              "      <th>Rating</th>\n",
              "      <th>Review</th>\n",
              "      <th>Version</th>\n",
              "      <th>source</th>\n",
              "      <th>racism</th>\n",
              "      <th>bullying</th>\n",
              "      <th>sexual</th>\n",
              "    </tr>\n",
              "  </thead>\n",
              "  <tbody>\n",
              "    <tr>\n",
              "      <th>430</th>\n",
              "      <td>US</td>\n",
              "      <td>04/20/2019</td>\n",
              "      <td>2</td>\n",
              "      <td>Everything is either about sex or it’s a boring talk not conversation. I block people or swipe l...</td>\n",
              "      <td>6.6.0</td>\n",
              "      <td>skout</td>\n",
              "      <td>0.0</td>\n",
              "      <td>0.0</td>\n",
              "      <td>0.0</td>\n",
              "    </tr>\n",
              "    <tr>\n",
              "      <th>767</th>\n",
              "      <td>US</td>\n",
              "      <td>01/08/2019</td>\n",
              "      <td>2</td>\n",
              "      <td>Through this app, I've met interesting people from around the world. I HATE the lack of safeguar...</td>\n",
              "      <td>4.19.1</td>\n",
              "      <td>skout</td>\n",
              "      <td>0.0</td>\n",
              "      <td>0.0</td>\n",
              "      <td>0.0</td>\n",
              "    </tr>\n",
              "    <tr>\n",
              "      <th>1017</th>\n",
              "      <td>US</td>\n",
              "      <td>11/18/2018</td>\n",
              "      <td>4</td>\n",
              "      <td>When I get bored? I use this app sometimes to chat with random strangers because I get to make f...</td>\n",
              "      <td>4.0.1</td>\n",
              "      <td>holla</td>\n",
              "      <td>NaN</td>\n",
              "      <td>NaN</td>\n",
              "      <td>NaN</td>\n",
              "    </tr>\n",
              "    <tr>\n",
              "      <th>1072</th>\n",
              "      <td>US</td>\n",
              "      <td>10/31/2018</td>\n",
              "      <td>1</td>\n",
              "      <td>Just a bunch of guys wanting to sext with girls!</td>\n",
              "      <td>1.8</td>\n",
              "      <td>chat-for-strangers</td>\n",
              "      <td>NaN</td>\n",
              "      <td>NaN</td>\n",
              "      <td>NaN</td>\n",
              "    </tr>\n",
              "    <tr>\n",
              "      <th>1199</th>\n",
              "      <td>US</td>\n",
              "      <td>09/20/2018</td>\n",
              "      <td>1</td>\n",
              "      <td>The app is kinda worthless. Too many ‘people’ are listed as being in Independence KS. Too many t...</td>\n",
              "      <td>5.01.1</td>\n",
              "      <td>skout</td>\n",
              "      <td>NaN</td>\n",
              "      <td>NaN</td>\n",
              "      <td>NaN</td>\n",
              "    </tr>\n",
              "  </tbody>\n",
              "</table>\n",
              "</div>"
            ],
            "text/plain": [
              "     Country        Date  Rating  \\\n",
              "430       US  04/20/2019       2   \n",
              "767       US  01/08/2019       2   \n",
              "1017      US  11/18/2018       4   \n",
              "1072      US  10/31/2018       1   \n",
              "1199      US  09/20/2018       1   \n",
              "\n",
              "                                                                                                   Review  \\\n",
              "430   Everything is either about sex or it’s a boring talk not conversation. I block people or swipe l...   \n",
              "767   Through this app, I've met interesting people from around the world. I HATE the lack of safeguar...   \n",
              "1017  When I get bored? I use this app sometimes to chat with random strangers because I get to make f...   \n",
              "1072                                                     Just a bunch of guys wanting to sext with girls!   \n",
              "1199  The app is kinda worthless. Too many ‘people’ are listed as being in Independence KS. Too many t...   \n",
              "\n",
              "     Version              source  racism  bullying  sexual  \n",
              "430    6.6.0               skout     0.0       0.0     0.0  \n",
              "767   4.19.1               skout     0.0       0.0     0.0  \n",
              "1017   4.0.1               holla     NaN       NaN     NaN  \n",
              "1072     1.8  chat-for-strangers     NaN       NaN     NaN  \n",
              "1199  5.01.1               skout     NaN       NaN     NaN  "
            ]
          },
          "metadata": {
            "tags": []
          },
          "execution_count": 9
        }
      ]
    },
    {
      "cell_type": "code",
      "metadata": {
        "colab": {
          "base_uri": "https://localhost:8080/"
        },
        "id": "gDHUX8Glu6ey",
        "outputId": "7d3ada95-9dc0-4a79-a569-2b21fb5570f3"
      },
      "source": [
        "sexual_df.shape"
      ],
      "execution_count": 10,
      "outputs": [
        {
          "output_type": "execute_result",
          "data": {
            "text/plain": [
              "(522, 9)"
            ]
          },
          "metadata": {
            "tags": []
          },
          "execution_count": 10
        }
      ]
    },
    {
      "cell_type": "code",
      "metadata": {
        "colab": {
          "base_uri": "https://localhost:8080/"
        },
        "id": "1O9CG_dku9GF",
        "outputId": "c356ccf1-4ff2-4458-9095-2788cb487315"
      },
      "source": [
        "sexual_df.source.value_counts()"
      ],
      "execution_count": 13,
      "outputs": [
        {
          "output_type": "execute_result",
          "data": {
            "text/plain": [
              "skout                 351\n",
              "chat-for-strangers     99\n",
              "holla                  72\n",
              "Name: source, dtype: int64"
            ]
          },
          "metadata": {
            "tags": []
          },
          "execution_count": 13
        }
      ]
    },
    {
      "cell_type": "code",
      "metadata": {
        "colab": {
          "base_uri": "https://localhost:8080/"
        },
        "id": "RbAvjzEXvFLU",
        "outputId": "c9d9d041-e273-4e5e-9bb2-2a61012d9c87"
      },
      "source": [
        "sexual_df.sexual.value_counts()"
      ],
      "execution_count": 15,
      "outputs": [
        {
          "output_type": "execute_result",
          "data": {
            "text/plain": [
              "0.0    2\n",
              "Name: sexual, dtype: int64"
            ]
          },
          "metadata": {
            "tags": []
          },
          "execution_count": 15
        }
      ]
    },
    {
      "cell_type": "code",
      "metadata": {
        "colab": {
          "base_uri": "https://localhost:8080/",
          "height": 343
        },
        "id": "g_17f-9DvZXS",
        "outputId": "8a8eb58a-79ce-488c-8252-25da28169dcd"
      },
      "source": [
        "reviews_with_kids_df = sexual_df[sexual_df.Review.str.contains(\"kids\", na=False) | df.Review.str.contains(\"child\", na=False)| df.Review.str.contains(\"daughter\", na=False)]\n",
        "reviews_with_kids_df.head()"
      ],
      "execution_count": 16,
      "outputs": [
        {
          "output_type": "stream",
          "text": [
            "/usr/local/lib/python3.7/dist-packages/ipykernel_launcher.py:1: UserWarning: Boolean Series key will be reindexed to match DataFrame index.\n",
            "  \"\"\"Entry point for launching an IPython kernel.\n"
          ],
          "name": "stderr"
        },
        {
          "output_type": "execute_result",
          "data": {
            "text/html": [
              "<div>\n",
              "<style scoped>\n",
              "    .dataframe tbody tr th:only-of-type {\n",
              "        vertical-align: middle;\n",
              "    }\n",
              "\n",
              "    .dataframe tbody tr th {\n",
              "        vertical-align: top;\n",
              "    }\n",
              "\n",
              "    .dataframe thead th {\n",
              "        text-align: right;\n",
              "    }\n",
              "</style>\n",
              "<table border=\"1\" class=\"dataframe\">\n",
              "  <thead>\n",
              "    <tr style=\"text-align: right;\">\n",
              "      <th></th>\n",
              "      <th>Country</th>\n",
              "      <th>Date</th>\n",
              "      <th>Rating</th>\n",
              "      <th>Review</th>\n",
              "      <th>Version</th>\n",
              "      <th>source</th>\n",
              "      <th>racism</th>\n",
              "      <th>bullying</th>\n",
              "      <th>sexual</th>\n",
              "    </tr>\n",
              "  </thead>\n",
              "  <tbody>\n",
              "    <tr>\n",
              "      <th>7266</th>\n",
              "      <td>US</td>\n",
              "      <td>04/07/2017</td>\n",
              "      <td>2</td>\n",
              "      <td>The app is advertised as a social app to make friends and get to know the community. \\nI downloa...</td>\n",
              "      <td>3.25</td>\n",
              "      <td>holla</td>\n",
              "      <td>NaN</td>\n",
              "      <td>NaN</td>\n",
              "      <td>NaN</td>\n",
              "    </tr>\n",
              "    <tr>\n",
              "      <th>11149</th>\n",
              "      <td>US</td>\n",
              "      <td>05/20/2019</td>\n",
              "      <td>2</td>\n",
              "      <td>Gotta say.\\n\\nWhen my friends introduced me to this app, there was so much to look forward to. I...</td>\n",
              "      <td>2.73</td>\n",
              "      <td>holla</td>\n",
              "      <td>NaN</td>\n",
              "      <td>NaN</td>\n",
              "      <td>NaN</td>\n",
              "    </tr>\n",
              "    <tr>\n",
              "      <th>11168</th>\n",
              "      <td>US</td>\n",
              "      <td>05/14/2019</td>\n",
              "      <td>1</td>\n",
              "      <td>Originally I had the BEST review I’ve EVER given ANY APP ever! And NOW I’m changing it to the WO...</td>\n",
              "      <td>5.8.2</td>\n",
              "      <td>skout</td>\n",
              "      <td>NaN</td>\n",
              "      <td>NaN</td>\n",
              "      <td>NaN</td>\n",
              "    </tr>\n",
              "    <tr>\n",
              "      <th>15355</th>\n",
              "      <td>US</td>\n",
              "      <td>01/03/2016</td>\n",
              "      <td>1</td>\n",
              "      <td>Every time i start talking with a stranger the first thing he says is asl? (Age sex location) de...</td>\n",
              "      <td>2.6</td>\n",
              "      <td>chat-for-strangers</td>\n",
              "      <td>NaN</td>\n",
              "      <td>NaN</td>\n",
              "      <td>NaN</td>\n",
              "    </tr>\n",
              "    <tr>\n",
              "      <th>15475</th>\n",
              "      <td>US</td>\n",
              "      <td>10/21/2019</td>\n",
              "      <td>1</td>\n",
              "      <td>This app allows young girls, 17-18 to strip live in order to set up tricks for prostitution.  Th...</td>\n",
              "      <td>5.01.1</td>\n",
              "      <td>skout</td>\n",
              "      <td>NaN</td>\n",
              "      <td>NaN</td>\n",
              "      <td>NaN</td>\n",
              "    </tr>\n",
              "  </tbody>\n",
              "</table>\n",
              "</div>"
            ],
            "text/plain": [
              "      Country        Date  Rating  \\\n",
              "7266       US  04/07/2017       2   \n",
              "11149      US  05/20/2019       2   \n",
              "11168      US  05/14/2019       1   \n",
              "15355      US  01/03/2016       1   \n",
              "15475      US  10/21/2019       1   \n",
              "\n",
              "                                                                                                    Review  \\\n",
              "7266   The app is advertised as a social app to make friends and get to know the community. \\nI downloa...   \n",
              "11149  Gotta say.\\n\\nWhen my friends introduced me to this app, there was so much to look forward to. I...   \n",
              "11168  Originally I had the BEST review I’ve EVER given ANY APP ever! And NOW I’m changing it to the WO...   \n",
              "15355  Every time i start talking with a stranger the first thing he says is asl? (Age sex location) de...   \n",
              "15475  This app allows young girls, 17-18 to strip live in order to set up tricks for prostitution.  Th...   \n",
              "\n",
              "      Version              source  racism  bullying  sexual  \n",
              "7266     3.25               holla     NaN       NaN     NaN  \n",
              "11149    2.73               holla     NaN       NaN     NaN  \n",
              "11168   5.8.2               skout     NaN       NaN     NaN  \n",
              "15355     2.6  chat-for-strangers     NaN       NaN     NaN  \n",
              "15475  5.01.1               skout     NaN       NaN     NaN  "
            ]
          },
          "metadata": {
            "tags": []
          },
          "execution_count": 16
        }
      ]
    },
    {
      "cell_type": "code",
      "metadata": {
        "colab": {
          "base_uri": "https://localhost:8080/"
        },
        "id": "RbQtuhlkwRST",
        "outputId": "27499f2b-e6dd-4515-f28e-b4443ad552fc"
      },
      "source": [
        "reviews_with_kids_df.shape"
      ],
      "execution_count": 17,
      "outputs": [
        {
          "output_type": "execute_result",
          "data": {
            "text/plain": [
              "(22, 9)"
            ]
          },
          "metadata": {
            "tags": []
          },
          "execution_count": 17
        }
      ]
    },
    {
      "cell_type": "code",
      "metadata": {
        "id": "PDPpFLI4xSRr"
      },
      "source": [
        "pd.set_option('display.max_columns', None)"
      ],
      "execution_count": 18,
      "outputs": []
    },
    {
      "cell_type": "code",
      "metadata": {
        "colab": {
          "base_uri": "https://localhost:8080/"
        },
        "id": "Zkx1UdJewqMq",
        "outputId": "91b50c70-07ac-4a96-8673-80db9dc12f80"
      },
      "source": [
        "print(reviews_with_kids_df.Review)"
      ],
      "execution_count": 25,
      "outputs": [
        {
          "output_type": "stream",
          "text": [
            "7266     The app is advertised as a social app to make friends and get to know the community. \\nI downloa...\n",
            "11149    Gotta say.\\n\\nWhen my friends introduced me to this app, there was so much to look forward to. I...\n",
            "11168    Originally I had the BEST review I’ve EVER given ANY APP ever! And NOW I’m changing it to the WO...\n",
            "15355    Every time i start talking with a stranger the first thing he says is asl? (Age sex location) de...\n",
            "15475    This app allows young girls, 17-18 to strip live in order to set up tricks for prostitution.  Th...\n",
            "17494    Half of these people are child malesters. You should be able to pick if you want to look for a g...\n",
            "17713    Do not use this app. Nothing but scammers, ho’s and fake profiles. If your looking for a date or...\n",
            "19356    The only thing that is bad is one person on here her name is Kathleen D’Angelo she tried to stab...\n",
            "20445    I was thinking someone was a kid so I said hi then they just said \"m age\"  then I reported for u...\n",
            "20770    So first of all, this app is basically Tinder for kids. After making a profile, you can swipe le...\n",
            "20833    i got this app for the sole purpose of getting friends and meeting people that share my interest...\n",
            "21936    If you have a minor (any age) absolutely do NOT allow your kids to have this app. This app is fi...\n",
            "22211    98% of the people are horny kids pretending to be twenty years old. Sometimes you find a cool Ru...\n",
            "24638    This app is full of under aged children looking for sexual content. There need to be some sort o...\n",
            "31215    Red-flags: 🚩 way too many ads that create glitches - I've come across catfishes aka ( fake profi...\n",
            "36499    Okay this is literally tinder for kids, it would be so easy for any child to be kidnapped or sex...\n",
            "44562    My 14 year old daughter is under my Apple ID and downloaded this app without my knowledge. I fou...\n",
            "48761    This is a very bad app to be out in the open to young children. mostly because many, many times ...\n",
            "51739    If you’re a good looking female just looking for people to chat with.. you could get that or you...\n",
            "53682    So paying for credits to go for elite status for additional perks is completely acceptable.  Now...\n",
            "53898    My daughter got this app on her iPod and this man was asking her if she had sex. I was offended....\n",
            "54367    Used this app for 7 months and have realized a few things. \\n1. The boosts and premium account o...\n",
            "Name: Review, dtype: object\n"
          ],
          "name": "stdout"
        }
      ]
    },
    {
      "cell_type": "code",
      "metadata": {
        "id": "G6BSfRhkxsCM"
      },
      "source": [
        "#Column 36499 is very interesting\n",
        "#Column 53898 too will be good to find interview sources"
      ],
      "execution_count": null,
      "outputs": []
    }
  ]
}